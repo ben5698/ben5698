{
  "nbformat": 4,
  "nbformat_minor": 0,
  "metadata": {
    "colab": {
      "name": "Matplotlib Tutorial 1,2,3 (Line, Bar, Hist,Scat,Stack)",
      "version": "0.3.2",
      "provenance": [],
      "collapsed_sections": [],
      "include_colab_link": true
    },
    "kernelspec": {
      "name": "python3",
      "display_name": "Python 3"
    }
  },
  "cells": [
    {
      "cell_type": "markdown",
      "metadata": {
        "id": "view-in-github",
        "colab_type": "text"
      },
      "source": [
        "<a href=\"https://colab.research.google.com/github/ben5698/ben5698/blob/master/Matplotlib_Tutorial_1%2C2%2C3_(Line%2C_Bar%2C_Hist%2CScat%2CStack%2Curl).ipynb\" target=\"_parent\"><img src=\"https://colab.research.google.com/assets/colab-badge.svg\" alt=\"Open In Colab\"/></a>"
      ]
    },
    {
      "metadata": {
        "id": "3abSjdQqQzTu",
        "colab_type": "code",
        "colab": {}
      },
      "cell_type": "code",
      "source": [
        "\n",
        "import matplotlib.pyplot as plt\n",
        "\n"
      ],
      "execution_count": 0,
      "outputs": []
    },
    {
      "metadata": {
        "id": "4RLPPT1rSe9v",
        "colab_type": "code",
        "outputId": "b30a9e3b-944b-47e0-81bf-c133d27ad959",
        "colab": {
          "base_uri": "https://localhost:8080/",
          "height": 308
        }
      },
      "cell_type": "code",
      "source": [
        "x = [2,4,6,8,10]\n",
        "y =[6,7,8,2,4]\n",
        "\n",
        "x2 = [1,3,5,7,9]\n",
        "y2 = [7,8,2,4,2]\n",
        "\n",
        "plt.bar(x,y, label = 'Bars1', color='r')\n",
        "plt.bar(x2,y2, label = 'Bars2', color='c')\n",
        "\n",
        "plt.xlabel('x')\n",
        "plt.ylabel('y')\n",
        "\n",
        "plt.title('Interesting Graph\\nCheck it out')\n",
        "plt.legend()\n",
        "plt.show()"
      ],
      "execution_count": 0,
      "outputs": [
        {
          "output_type": "display_data",
          "data": {
            "image/png": "[encoded data removed]",
            "text/plain": [
              "<Figure size 432x288 with 1 Axes>"
            ]
          },
          "metadata": {
            "tags": []
          }
        }
      ]
    },
    {
      "metadata": {
        "id": "fmMh_iqKbGHY",
        "colab_type": "code",
        "outputId": "7b3351b0-ac96-4952-f1fc-9845473b2fef",
        "colab": {
          "base_uri": "https://localhost:8080/",
          "height": 325
        }
      },
      "cell_type": "code",
      "source": [
        "population_ages = [22,55,62,45,21,22,34,42,42,4,99,102,110,120,121,122,130,111,115,112,80,75,65,54,44,43,42,48]\n",
        "\n",
        "#ids = [x for x in range(len(population_ages))]\n",
        "\n",
        "bins = [0,10,20,30,40,50,60,70,80,90,100,110,120,130]\n",
        "\n",
        "plt.hist(population_ages, bins, histtype='bar', rwidth=0.8)\n",
        "\n",
        "plt.xlabel('x')\n",
        "plt.ylabel('y')\n",
        "\n",
        "plt.title('Interesting Graph\\nCheck it out')\n",
        "plt.legend()\n",
        "\n",
        "import matplotlib.pyplot as pltplt.show()"
      ],
      "execution_count": 0,
      "outputs": [
        {
          "output_type": "stream",
          "text": [
            "No handles with labels found to put in legend.\n"
          ],
          "name": "stderr"
        },
        {
          "output_type": "display_data",
          "data": {
            "image/png": "[encoded data removed]",
            "text/plain": [
              "<Figure size 432x288 with 1 Axes>"
            ]
          },
          "metadata": {
            "tags": []
          }
        }
      ]
    },
    {
      "metadata": {
        "id": "0FURph6EdE44",
        "colab_type": "code",
        "outputId": "bbc2d2b9-12bb-4898-931c-e9c2f09c2271",
        "colab": {
          "base_uri": "https://localhost:8080/",
          "height": 390
        }
      },
      "cell_type": "code",
      "source": [
        "\n",
        "\n",
        "import matplotlib.pyplot as plt\n",
        "\n",
        "x = [1,2,3,4,5,6,7,8]\n",
        "y = [5,2,4,2,1,4,5,2]\n",
        "\n",
        "plt.scatter(x,y, label='skitscar', color='r', marker= 'P', s=300)\n",
        "\n",
        "plt.xlabel('x')\n",
        "plt.ylabel('y')\n",
        "\n",
        "plt.title('Interesting Graph\\nCheck it out')\n",
        "plt.legend()\n",
        "plt.show()"
      ],
      "execution_count": 0,
      "outputs": [
        {
          "output_type": "display_data",
          "data": {
            "image/png": "[encoded data removed]",
            "text/plain": [
              "<Figure size 576x396 with 1 Axes>"
            ]
          },
          "metadata": {
            "tags": []
          }
        }
      ]
    },
    {
      "metadata": {
        "id": "7Yh7LvQamEvF",
        "colab_type": "code",
        "colab": {}
      },
      "cell_type": "code",
      "source": [
        ""
      ],
      "execution_count": 0,
      "outputs": []
    },
    {
      "metadata": {
        "id": "7ab7CKQql3vs",
        "colab_type": "code",
        "outputId": "02c9cafb-c865-4321-bac9-d6f7ce16aae1",
        "colab": {
          "base_uri": "https://localhost:8080/",
          "height": 390
        }
      },
      "cell_type": "code",
      "source": [
        "days =[1,2,3,4,5]\n",
        "\n",
        "Sleeping = [7,8,6,11,7]\n",
        "Eating = [2,3,4,3,2,]\n",
        "Working = [7,8,7,2,2]\n",
        "Playing = [8,5,7,8,13]\n",
        "\n",
        "\n",
        "plt.plot([], [], color='m', label = 'Sleeping', linewidth=10)\n",
        "plt.plot([], [], color='c', label = 'Eating', linewidth=10)\n",
        "plt.plot([], [], color='r', label = 'Working', linewidth=10)\n",
        "plt.plot([], [], color='k', label = 'Playing', linewidth=10)\n",
        "\n",
        "plt.stackplot(days, Sleeping, Eating, Working, Playing, colors=['m','c','r','k'])\n",
        "\n",
        "plt.xlabel('x')\n",
        "plt.ylabel('y')\n",
        "\n",
        "plt.title('Interesting Graph\\nCheck it out')\n",
        "plt.legend()\n",
        "plt.show()"
      ],
      "execution_count": 0,
      "outputs": [
        {
          "output_type": "display_data",
          "data": {
            "image/png": "[encoded data removed]",
            "text/plain": [
              "<Figure size 576x396 with 1 Axes>"
            ]
          },
          "metadata": {
            "tags": []
          }
        }
      ]
    },
    {
      "metadata": {
        "id": "4H8wSOs71GlF",
        "colab_type": "code",
        "outputId": "564b7085-24ad-4db3-8276-fd080ad0035c",
        "colab": {
          "base_uri": "https://localhost:8080/",
          "height": 283
        }
      },
      "cell_type": "code",
      "source": [
        "import matplotlib.pyplot as plt\n",
        "\n",
        "days =[1,2,3,4,5]\n",
        "\n",
        "Sleeping = [7,8,6,11,7]\n",
        "Eating = [2,3,4,3,2,]\n",
        "Working = [7,8,7,2,2]\n",
        "Playing = [8,5,7,8,13]\n",
        "\n",
        "\n",
        "slices = [7,2,2,13]\n",
        "activities = ['Sleeping', 'Eating', 'Working', 'Playing']\n",
        "cols= ['c','m','r','b']\n",
        "\n",
        "plt.pie(slices, \n",
        "        labels=activities, \n",
        "        colors=cols, \n",
        "        startangle=90, \n",
        "        shadow=True, \n",
        "        explode=(0,0.1,0,0),\n",
        "        autopct='%1.1f%%')\n",
        "        \n",
        "        \n",
        "\n",
        "#plt.xlabel('x')\n",
        "#plt.ylabel('y')\n",
        "\n",
        "plt.title('Interesting Graph\\nCheck it out')\n",
        "#plt.legend()\n",
        "plt.show()"
      ],
      "execution_count": 3,
      "outputs": [
        {
          "output_type": "display_data",
          "data": {
            "image/png": "[encoded data removed]",
            "text/plain": [
              "<Figure size 432x288 with 1 Axes>"
            ]
          },
          "metadata": {
            "tags": []
          }
        }
      ]
    },
    {
      "metadata": {
        "id": "ZyqbxVTS4mO-",
        "colab_type": "code",
        "outputId": "55f22d42-dd3c-4bd3-dbf2-ed42ea700ffb",
        "colab": {
          "base_uri": "https://localhost:8080/",
          "height": 296
        }
      },
      "cell_type": "code",
      "source": [
        "import matplotlib.pyplot as plt\n",
        "import numpy as np\n",
        "\n",
        "import csv \n",
        "\n",
        "\n",
        "x=[]\n",
        "y=[]\n",
        "\n",
        "with open('example.txt', 'r') as csvfile:\n",
        "  plots = csv.reader(csvfile, delimiter=',')\n",
        "  for row in plots:\n",
        "    x.append(int(row[0]))\n",
        "    y.append(int(row[1]))\n",
        "\n",
        "    \n",
        "plt.plot(x,y, label='Loaded from file!')    \n",
        "\n",
        "    \n",
        "#plt.xlabel('x')\n",
        "#plt.ylabel('y')\n",
        "\n",
        "plt.title('Interesting Graph\\nCheck it out')\n",
        "#plt.legend()\n",
        "plt.show()\n",
        "\n"
      ],
      "execution_count": 5,
      "outputs": [
        {
          "output_type": "display_data",
          "data": {
            "image/png": "[encoded data removed]",
            "text/plain": [
              "<Figure size 432x288 with 1 Axes>"
            ]
          },
          "metadata": {
            "tags": []
          }
        }
      ]
    },
    {
      "metadata": {
        "id": "7WncSpGj7lTo",
        "colab_type": "code",
        "outputId": "40e4f001-e6ad-499d-cb86-352f9c9a7465",
        "colab": {
          "base_uri": "https://localhost:8080/",
          "height": 375
        }
      },
      "cell_type": "code",
      "source": [
        "import matplotlib.pyplot as plt\n",
        "import numpy as np\n",
        "\n",
        "\n",
        "x, y = np.loadtxt'example.txt', delimiter=',', unpack =True)\n",
        "plt.plot(x,y, label='Loaded from file!')    \n",
        "\n",
        "    a\n",
        "#plt.xlabel('x')\n",
        "#plt.ylabel('y')\n",
        "\n",
        "plt.title('Interesting Graph\\nCheck it out')\n",
        "#plt.legend()\n",
        "plt.show()"
      ],
      "execution_count": 0,
      "outputs": [
        {
          "output_type": "display_data",
          "data": {
            "image/png": "[encoded data removed]",
            "text/plain": [
              "<Figure size 576x396 with 1 Axes>"
            ]
          },
          "metadata": {
            "tags": []
          }
        }
      ]
    },
    {
      "metadata": {
        "id": "qX38So9k-kcG",
        "colab_type": "code",
        "outputId": "e8d25027-f4e0-455c-fdd4-e9cfc61736a0",
        "colab": {
          "base_uri": "https://localhost:8080/",
          "height": 129
        }
      },
      "cell_type": "code",
      "source": [
        "import matplotlib.pyplot as plt\n",
        "import numpy as np\n",
        "import urllib\n",
        "import matplotlib.dates as mdates \n",
        "\n",
        "def bytespdate2num(fmt, encoding='utf-8'): \n",
        "  strconverter = mdates.strpdate2num(fmt)\n",
        "  def bytesconverter(b): \n",
        "    s = b.decode(encoding)\n",
        "    returns strconverter(s)\n",
        "   return bytesconverter \n",
        "\n",
        "def graph_data(stock):\n",
        "  \n",
        "  stock_price_url = 'http://pythonprogramming.net/yahoo_finance_replacement'\n",
        "  source_code = urllib.request.urlopen(stock_price_url).read().decode()\n",
        "  stock_data = []\n",
        "  split_source = source_code/split('\\n')\n",
        "  for line in split_source: \n",
        "    split_line = line.spplit(',')\n",
        "    if len(split_line) == 6:\n",
        "      if 'value' not in line and 'label not in line': \n",
        "        stock_data.append(line)\n",
        "        \n",
        "Date,Open,High,Low,Close,Adjusted_close,Volume        \n",
        "        \n",
        "Date, Openp, Highp, Lowp, Closep, Adjusted_closeP, VolumeP,  = np.loadtxt(stock_data,\n",
        "                                                               delimiter=',',\n",
        "                                                               unpack=True,\n",
        "                                                               # %Y = full year. 2015 \n",
        "                                                               # %y = partial year 15\n",
        "                                                               # %m = number month \n",
        "                                                               # %d = number day\n",
        "                                                               # %H = hours\n",
        "                                                               # %M = minutes\n",
        "                                                               # %S = seconds \n",
        "                                                               # 12=06-2014\n",
        "                                                               # %m-%d-%Y\n",
        "   \n",
        "                                                                 converters=(0: bytespdate2num('%Y%m%d')})\n",
        "        \n",
        "                                 \n",
        "                                  \n",
        "              \n",
        "\n",
        "                                                      \n",
        "                                                     \n",
        "plt.xlabel('Date')                                 \n",
        "plt.ylabel('Price')\n",
        "plt.title('Interesting Graph\\nCheck it out')\n",
        "#plt.legend()\n",
        "plt.show()\n",
        "\n",
        "graph_data('TSLA')\n",
        "\n"
      ],
      "execution_count": 9,
      "outputs": [
        {
          "output_type": "error",
          "ename": "SyntaxError",
          "evalue": "ignored",
          "traceback": [
            "\u001b[0;36m  File \u001b[0;32m\"<ipython-input-9-c0dc52f26102>\"\u001b[0;36m, line \u001b[0;32m10\u001b[0m\n\u001b[0;31m    returns strconverter(s)\u001b[0m\n\u001b[0m                       ^\u001b[0m\n\u001b[0;31mSyntaxError\u001b[0m\u001b[0;31m:\u001b[0m invalid syntax\n"
          ]
        }
      ]
    },
    {
      "metadata": {
        "id": "uHzVrSLPFSoZ",
        "colab_type": "code",
        "colab": {
          "base_uri": "https://localhost:8080/",
          "height": 129
        },
        "outputId": "aa3283b2-9746-4d62-df71-9dc85cb104b2"
      },
      "cell_type": "code",
      "source": [
        "import matplotlib.pyplot as plt\n",
        "import numpy as np\n",
        "import urllib\n",
        "import matplotlib.dates as mdates \n",
        "\n",
        "def bytespdate2num(fmt, encoding='utf-8'): \n",
        "  strconverter = mdates.strpdate2num(fmt)\n",
        "  def bytesconverter(b): \n",
        "    s = b.decode(encoding)\n",
        "    returns strconverter(s)\n",
        "   return bytesconverter \n",
        "\n",
        "def graph_data(stock):\n",
        "  \n",
        "  fig = plt.figure()\n",
        "  ax1 = plt.subplot2grid((1,1),(0,0))\n",
        "  \n",
        "  stock_price_url = 'http://pythonprogramming.net/yahoo_finance_replacement'\n",
        "  source_code = urllib.request.urlopen(stock_price_url).read().decode()\n",
        "  stock_data = []\n",
        "  split_source = source_code/split('\\n')\n",
        "  for line in split_source: \n",
        "    split_line = line.spplit(',')\n",
        "    if len(split_line) == 6:\n",
        "      if 'value' not in line and 'label not in line': \n",
        "        stock_data.append(line)\n",
        "        \n",
        "Date,Open,High,Low,Close,Adjusted_close,Volume        \n",
        "        \n",
        "Date, Openp, Highp, Lowp, Closep, Adjusted_closeP, VolumeP,  = np.loadtxt(stock_data,\n",
        "                                                               delimiter=',',\n",
        "                                                               unpack=True,\n",
        "                                                               # %Y = full year. 2015 \n",
        "                                                               # %y = partial year 15\n",
        "                                                               # %m = number month \n",
        "                                                               # %d = number day\n",
        "                                                               # %H = hours\n",
        "                                                               # %M = minutes\n",
        "                                                               # %S = seconds \n",
        "                                                               # 12=06-2014\n",
        "                                                               # %m-%d-%Y\n",
        "   \n",
        "                                                                 converters=(0: bytespdate2num('%Y%m%d')})\n",
        "        \n",
        "ax1.plot_data(date, closep, '-', label='Price')   \n",
        "                                                                          \n",
        "plt.xlabel('Date')                                 \n",
        "plt.ylabel('Price')\n",
        "plt.title('Interesting Graph\\nCheck it out')\n",
        "#plt.legend()\n",
        "plt.show()\n",
        "\n",
        "graph_data('TSLA')\n",
        "\n"
      ],
      "execution_count": 13,
      "outputs": [
        {
          "output_type": "error",
          "ename": "SyntaxError",
          "evalue": "ignored",
          "traceback": [
            "\u001b[0;36m  File \u001b[0;32m\"<ipython-input-13-7ceea9509044>\"\u001b[0;36m, line \u001b[0;32m10\u001b[0m\n\u001b[0;31m    returns strconverter(s)\u001b[0m\n\u001b[0m                       ^\u001b[0m\n\u001b[0;31mSyntaxError\u001b[0m\u001b[0;31m:\u001b[0m invalid syntax\n"
          ]
        }
      ]
    },
    {
      "metadata": {
        "id": "du4PWGV_Hxc2",
        "colab_type": "code",
        "colab": {}
      },
      "cell_type": "code",
      "source": [
        ""
      ],
      "execution_count": 0,
      "outputs": []
    },
    {
      "metadata": {
        "id": "WBjSgA-JHkLf",
        "colab_type": "code",
        "colab": {}
      },
      "cell_type": "code",
      "source": [
        ""
      ],
      "execution_count": 0,
      "outputs": []
    },
    {
      "metadata": {
        "id": "O5T82cu5HRrI",
        "colab_type": "code",
        "colab": {}
      },
      "cell_type": "code",
      "source": [
        ""
      ],
      "execution_count": 0,
      "outputs": []
    },
    {
      "metadata": {
        "id": "kXqkJE0MHQQj",
        "colab_type": "code",
        "colab": {}
      },
      "cell_type": "code",
      "source": [
        ""
      ],
      "execution_count": 0,
      "outputs": []
    },
    {
      "metadata": {
        "id": "Bl625maqF5ks",
        "colab_type": "code",
        "colab": {}
      },
      "cell_type": "code",
      "source": [
        ""
      ],
      "execution_count": 0,
      "outputs": []
    },
    {
      "metadata": {
        "id": "ooK7P6R99t_K",
        "colab_type": "code",
        "colab": {}
      },
      "cell_type": "code",
      "source": [
        ""
      ],
      "execution_count": 0,
      "outputs": []
    },
    {
      "metadata": {
        "id": "34sxp4Ib9YfB",
        "colab_type": "code",
        "colab": {}
      },
      "cell_type": "code",
      "source": [
        ""
      ],
      "execution_count": 0,
      "outputs": []
    },
    {
      "metadata": {
        "id": "OTc3nJbc9D3M",
        "colab_type": "code",
        "colab": {}
      },
      "cell_type": "code",
      "source": [
        ""
      ],
      "execution_count": 0,
      "outputs": []
    },
    {
      "metadata": {
        "id": "e8Htx6O17kUl",
        "colab_type": "code",
        "colab": {}
      },
      "cell_type": "code",
      "source": [
        ""
      ],
      "execution_count": 0,
      "outputs": []
    },
    {
      "metadata": {
        "id": "eSSd4IOU7igt",
        "colab_type": "code",
        "colab": {}
      },
      "cell_type": "code",
      "source": [
        ""
      ],
      "execution_count": 0,
      "outputs": []
    },
    {
      "metadata": {
        "id": "aVXvPDxA7W_m",
        "colab_type": "code",
        "colab": {}
      },
      "cell_type": "code",
      "source": [
        ""
      ],
      "execution_count": 0,
      "outputs": []
    },
    {
      "metadata": {
        "id": "8TQHA9nQ6jH7",
        "colab_type": "code",
        "colab": {}
      },
      "cell_type": "code",
      "source": [
        ""
      ],
      "execution_count": 0,
      "outputs": []
    },
    {
      "metadata": {
        "id": "PO1oPm2i6eyl",
        "colab_type": "code",
        "colab": {}
      },
      "cell_type": "code",
      "source": [
        ""
      ],
      "execution_count": 0,
      "outputs": []
    },
    {
      "metadata": {
        "id": "8my09Ulx4JGz",
        "colab_type": "code",
        "colab": {}
      },
      "cell_type": "code",
      "source": [
        ""
      ],
      "execution_count": 0,
      "outputs": []
    },
    {
      "metadata": {
        "id": "hJ6QQzys4EvK",
        "colab_type": "code",
        "colab": {}
      },
      "cell_type": "code",
      "source": [
        ""
      ],
      "execution_count": 0,
      "outputs": []
    },
    {
      "metadata": {
        "id": "bNzxdV1M4C6Q",
        "colab_type": "code",
        "colab": {}
      },
      "cell_type": "code",
      "source": [
        ""
      ],
      "execution_count": 0,
      "outputs": []
    },
    {
      "metadata": {
        "id": "epOoH3lr3w1I",
        "colab_type": "code",
        "colab": {}
      },
      "cell_type": "code",
      "source": [
        ""
      ],
      "execution_count": 0,
      "outputs": []
    },
    {
      "metadata": {
        "id": "G1AREGgD3t3h",
        "colab_type": "code",
        "colab": {}
      },
      "cell_type": "code",
      "source": [
        ""
      ],
      "execution_count": 0,
      "outputs": []
    },
    {
      "metadata": {
        "id": "rMHhsFX03njK",
        "colab_type": "code",
        "colab": {}
      },
      "cell_type": "code",
      "source": [
        ""
      ],
      "execution_count": 0,
      "outputs": []
    },
    {
      "metadata": {
        "id": "dZNCGzq33lin",
        "colab_type": "code",
        "colab": {}
      },
      "cell_type": "code",
      "source": [
        ""
      ],
      "execution_count": 0,
      "outputs": []
    },
    {
      "metadata": {
        "id": "lKBEvqEc3ZTi",
        "colab_type": "code",
        "colab": {}
      },
      "cell_type": "code",
      "source": [
        ""
      ],
      "execution_count": 0,
      "outputs": []
    },
    {
      "metadata": {
        "id": "PUQpySBj3QxX",
        "colab_type": "code",
        "colab": {}
      },
      "cell_type": "code",
      "source": [
        ""
      ],
      "execution_count": 0,
      "outputs": []
    },
    {
      "metadata": {
        "id": "0DteU0PD3JIk",
        "colab_type": "code",
        "colab": {}
      },
      "cell_type": "code",
      "source": [
        ""
      ],
      "execution_count": 0,
      "outputs": []
    },
    {
      "metadata": {
        "id": "qOlrbSh-3Ev-",
        "colab_type": "code",
        "colab": {}
      },
      "cell_type": "code",
      "source": [
        ""
      ],
      "execution_count": 0,
      "outputs": []
    },
    {
      "metadata": {
        "id": "ATDlNiqd2ZVA",
        "colab_type": "code",
        "colab": {}
      },
      "cell_type": "code",
      "source": [
        ""
      ],
      "execution_count": 0,
      "outputs": []
    },
    {
      "metadata": {
        "id": "UaH_x4r_2Tbq",
        "colab_type": "code",
        "colab": {}
      },
      "cell_type": "code",
      "source": [
        ""
      ],
      "execution_count": 0,
      "outputs": []
    },
    {
      "metadata": {
        "id": "fcNiFmVP2Qg9",
        "colab_type": "code",
        "colab": {}
      },
      "cell_type": "code",
      "source": [
        ""
      ],
      "execution_count": 0,
      "outputs": []
    },
    {
      "metadata": {
        "id": "SqIzJRwJ2Nas",
        "colab_type": "code",
        "colab": {}
      },
      "cell_type": "code",
      "source": [
        ""
      ],
      "execution_count": 0,
      "outputs": []
    },
    {
      "metadata": {
        "id": "yAwEq2ff2Fbo",
        "colab_type": "code",
        "colab": {}
      },
      "cell_type": "code",
      "source": [
        ""
      ],
      "execution_count": 0,
      "outputs": []
    },
    {
      "metadata": {
        "id": "hCii13d30xcW",
        "colab_type": "code",
        "colab": {}
      },
      "cell_type": "code",
      "source": [
        ""
      ],
      "execution_count": 0,
      "outputs": []
    },
    {
      "metadata": {
        "id": "RW2faHCe0kgj",
        "colab_type": "code",
        "colab": {}
      },
      "cell_type": "code",
      "source": [
        ""
      ],
      "execution_count": 0,
      "outputs": []
    },
    {
      "metadata": {
        "id": "HZoEEaeCnotV",
        "colab_type": "code",
        "colab": {}
      },
      "cell_type": "code",
      "source": [
        ""
      ],
      "execution_count": 0,
      "outputs": []
    },
    {
      "metadata": {
        "id": "gLcfltrhnZJW",
        "colab_type": "code",
        "colab": {}
      },
      "cell_type": "code",
      "source": [
        ""
      ],
      "execution_count": 0,
      "outputs": []
    },
    {
      "metadata": {
        "id": "gKHJtw_2mypG",
        "colab_type": "code",
        "colab": {}
      },
      "cell_type": "code",
      "source": [
        ""
      ],
      "execution_count": 0,
      "outputs": []
    },
    {
      "metadata": {
        "id": "oenqu3A-l1vd",
        "colab_type": "code",
        "colab": {}
      },
      "cell_type": "code",
      "source": [
        ""
      ],
      "execution_count": 0,
      "outputs": []
    },
    {
      "metadata": {
        "id": "ebqFIdt1lzTB",
        "colab_type": "code",
        "colab": {}
      },
      "cell_type": "code",
      "source": [
        ""
      ],
      "execution_count": 0,
      "outputs": []
    },
    {
      "metadata": {
        "id": "rdENApM-le4X",
        "colab_type": "code",
        "colab": {}
      },
      "cell_type": "code",
      "source": [
        ""
      ],
      "execution_count": 0,
      "outputs": []
    },
    {
      "metadata": {
        "id": "2q1f5GOalcAe",
        "colab_type": "code",
        "colab": {}
      },
      "cell_type": "code",
      "source": [
        ""
      ],
      "execution_count": 0,
      "outputs": []
    },
    {
      "metadata": {
        "id": "5nRqwRTSlaMr",
        "colab_type": "code",
        "colab": {}
      },
      "cell_type": "code",
      "source": [
        ""
      ],
      "execution_count": 0,
      "outputs": []
    },
    {
      "metadata": {
        "id": "QJOuviKYlYLq",
        "colab_type": "code",
        "colab": {}
      },
      "cell_type": "code",
      "source": [
        ""
      ],
      "execution_count": 0,
      "outputs": []
    },
    {
      "metadata": {
        "id": "gydWcbZvlWoT",
        "colab_type": "code",
        "colab": {}
      },
      "cell_type": "code",
      "source": [
        ""
      ],
      "execution_count": 0,
      "outputs": []
    },
    {
      "metadata": {
        "id": "bBfykbn0lTWS",
        "colab_type": "code",
        "colab": {}
      },
      "cell_type": "code",
      "source": [
        ""
      ],
      "execution_count": 0,
      "outputs": []
    },
    {
      "metadata": {
        "id": "W9JbCno2lRFh",
        "colab_type": "code",
        "colab": {}
      },
      "cell_type": "code",
      "source": [
        ""
      ],
      "execution_count": 0,
      "outputs": []
    },
    {
      "metadata": {
        "id": "b8KBv12ZlNwF",
        "colab_type": "code",
        "colab": {}
      },
      "cell_type": "code",
      "source": [
        ""
      ],
      "execution_count": 0,
      "outputs": []
    },
    {
      "metadata": {
        "id": "hD6cY8uHlLsH",
        "colab_type": "code",
        "colab": {}
      },
      "cell_type": "code",
      "source": [
        ""
      ],
      "execution_count": 0,
      "outputs": []
    },
    {
      "metadata": {
        "id": "jcu2muJglHgZ",
        "colab_type": "code",
        "colab": {}
      },
      "cell_type": "code",
      "source": [
        ""
      ],
      "execution_count": 0,
      "outputs": []
    },
    {
      "metadata": {
        "id": "3iA9sofLlCbr",
        "colab_type": "code",
        "colab": {}
      },
      "cell_type": "code",
      "source": [
        ""
      ],
      "execution_count": 0,
      "outputs": []
    },
    {
      "metadata": {
        "id": "uR37yIuAk48s",
        "colab_type": "code",
        "colab": {}
      },
      "cell_type": "code",
      "source": [
        ""
      ],
      "execution_count": 0,
      "outputs": []
    },
    {
      "metadata": {
        "id": "CzT1ic28ky9i",
        "colab_type": "code",
        "colab": {}
      },
      "cell_type": "code",
      "source": [
        ""
      ],
      "execution_count": 0,
      "outputs": []
    },
    {
      "metadata": {
        "id": "YSGDysEHkwOt",
        "colab_type": "code",
        "colab": {}
      },
      "cell_type": "code",
      "source": [
        ""
      ],
      "execution_count": 0,
      "outputs": []
    },
    {
      "metadata": {
        "id": "Om5dnySlkr5v",
        "colab_type": "code",
        "colab": {}
      },
      "cell_type": "code",
      "source": [
        ""
      ],
      "execution_count": 0,
      "outputs": []
    },
    {
      "metadata": {
        "id": "cK29o4tmklwe",
        "colab_type": "code",
        "colab": {}
      },
      "cell_type": "code",
      "source": [
        ""
      ],
      "execution_count": 0,
      "outputs": []
    },
    {
      "metadata": {
        "id": "ntQUyWKJkVIx",
        "colab_type": "code",
        "colab": {}
      },
      "cell_type": "code",
      "source": [
        ""
      ],
      "execution_count": 0,
      "outputs": []
    },
    {
      "metadata": {
        "id": "yaUprYVZkTFX",
        "colab_type": "code",
        "colab": {}
      },
      "cell_type": "code",
      "source": [
        ""
      ],
      "execution_count": 0,
      "outputs": []
    },
    {
      "metadata": {
        "id": "Vzvlzwk8kIUo",
        "colab_type": "code",
        "colab": {}
      },
      "cell_type": "code",
      "source": [
        ""
      ],
      "execution_count": 0,
      "outputs": []
    },
    {
      "metadata": {
        "id": "TISpu3uykFCN",
        "colab_type": "code",
        "colab": {}
      },
      "cell_type": "code",
      "source": [
        ""
      ],
      "execution_count": 0,
      "outputs": []
    },
    {
      "metadata": {
        "id": "cPTrIUuJjqoT",
        "colab_type": "code",
        "colab": {}
      },
      "cell_type": "code",
      "source": [
        ""
      ],
      "execution_count": 0,
      "outputs": []
    },
    {
      "metadata": {
        "id": "Q82p9L61jkF8",
        "colab_type": "code",
        "colab": {}
      },
      "cell_type": "code",
      "source": [
        ""
      ],
      "execution_count": 0,
      "outputs": []
    },
    {
      "metadata": {
        "id": "wIKTIUIyjiTX",
        "colab_type": "code",
        "colab": {}
      },
      "cell_type": "code",
      "source": [
        ""
      ],
      "execution_count": 0,
      "outputs": []
    },
    {
      "metadata": {
        "id": "5RQ9pwHRjbYg",
        "colab_type": "code",
        "colab": {}
      },
      "cell_type": "code",
      "source": [
        ""
      ],
      "execution_count": 0,
      "outputs": []
    },
    {
      "metadata": {
        "id": "Rg3o8PZVjZKF",
        "colab_type": "code",
        "colab": {}
      },
      "cell_type": "code",
      "source": [
        ""
      ],
      "execution_count": 0,
      "outputs": []
    },
    {
      "metadata": {
        "id": "egirFMSkjYfI",
        "colab_type": "code",
        "colab": {}
      },
      "cell_type": "code",
      "source": [
        ""
      ],
      "execution_count": 0,
      "outputs": []
    },
    {
      "metadata": {
        "id": "wqiy3UqLjWf3",
        "colab_type": "code",
        "colab": {}
      },
      "cell_type": "code",
      "source": [
        ""
      ],
      "execution_count": 0,
      "outputs": []
    },
    {
      "metadata": {
        "id": "TKIvmP19jQlv",
        "colab_type": "code",
        "colab": {}
      },
      "cell_type": "code",
      "source": [
        ""
      ],
      "execution_count": 0,
      "outputs": []
    },
    {
      "metadata": {
        "id": "K3yJf_X_jIO5",
        "colab_type": "code",
        "colab": {}
      },
      "cell_type": "code",
      "source": [
        ""
      ],
      "execution_count": 0,
      "outputs": []
    },
    {
      "metadata": {
        "id": "SRAqS1v3jEN3",
        "colab_type": "code",
        "colab": {}
      },
      "cell_type": "code",
      "source": [
        ""
      ],
      "execution_count": 0,
      "outputs": []
    },
    {
      "metadata": {
        "id": "gWealzxvjBAq",
        "colab_type": "code",
        "colab": {}
      },
      "cell_type": "code",
      "source": [
        ""
      ],
      "execution_count": 0,
      "outputs": []
    },
    {
      "metadata": {
        "id": "T-h_oUGoizWz",
        "colab_type": "code",
        "colab": {}
      },
      "cell_type": "code",
      "source": [
        ""
      ],
      "execution_count": 0,
      "outputs": []
    },
    {
      "metadata": {
        "id": "WwHHFscfivGl",
        "colab_type": "code",
        "colab": {}
      },
      "cell_type": "code",
      "source": [
        ""
      ],
      "execution_count": 0,
      "outputs": []
    },
    {
      "metadata": {
        "id": "g9bsDkGZikr7",
        "colab_type": "code",
        "colab": {}
      },
      "cell_type": "code",
      "source": [
        ""
      ],
      "execution_count": 0,
      "outputs": []
    },
    {
      "metadata": {
        "id": "SWCG4pOdiU0i",
        "colab_type": "code",
        "colab": {}
      },
      "cell_type": "code",
      "source": [
        ""
      ],
      "execution_count": 0,
      "outputs": []
    },
    {
      "metadata": {
        "id": "ptPsSSj8e-TC",
        "colab_type": "code",
        "colab": {}
      },
      "cell_type": "code",
      "source": [
        ""
      ],
      "execution_count": 0,
      "outputs": []
    },
    {
      "metadata": {
        "id": "ypyE4hI5e2Nh",
        "colab_type": "code",
        "colab": {}
      },
      "cell_type": "code",
      "source": [
        ""
      ],
      "execution_count": 0,
      "outputs": []
    },
    {
      "metadata": {
        "id": "bXY9eJhgc9t1",
        "colab_type": "code",
        "colab": {}
      },
      "cell_type": "code",
      "source": [
        ""
      ],
      "execution_count": 0,
      "outputs": []
    },
    {
      "metadata": {
        "id": "PpNE5dyUcOQx",
        "colab_type": "code",
        "colab": {}
      },
      "cell_type": "code",
      "source": [
        ""
      ],
      "execution_count": 0,
      "outputs": []
    },
    {
      "metadata": {
        "id": "O0hR2RkncHof",
        "colab_type": "code",
        "colab": {}
      },
      "cell_type": "code",
      "source": [
        ""
      ],
      "execution_count": 0,
      "outputs": []
    },
    {
      "metadata": {
        "id": "SDPEht7ebxXP",
        "colab_type": "code",
        "colab": {}
      },
      "cell_type": "code",
      "source": [
        ""
      ],
      "execution_count": 0,
      "outputs": []
    },
    {
      "metadata": {
        "id": "2hmE5WfNavM1",
        "colab_type": "code",
        "colab": {}
      },
      "cell_type": "code",
      "source": [
        ""
      ],
      "execution_count": 0,
      "outputs": []
    },
    {
      "metadata": {
        "id": "pkRtZCEvaqFZ",
        "colab_type": "code",
        "colab": {}
      },
      "cell_type": "code",
      "source": [
        ""
      ],
      "execution_count": 0,
      "outputs": []
    },
    {
      "metadata": {
        "id": "rah1rnJPagE8",
        "colab_type": "code",
        "colab": {}
      },
      "cell_type": "code",
      "source": [
        ""
      ],
      "execution_count": 0,
      "outputs": []
    },
    {
      "metadata": {
        "id": "LKt0UsdnaM32",
        "colab_type": "code",
        "colab": {}
      },
      "cell_type": "code",
      "source": [
        ""
      ],
      "execution_count": 0,
      "outputs": []
    },
    {
      "metadata": {
        "id": "c0vNmUM-X7On",
        "colab_type": "code",
        "colab": {}
      },
      "cell_type": "code",
      "source": [
        ""
      ],
      "execution_count": 0,
      "outputs": []
    },
    {
      "metadata": {
        "id": "vd7zVj_pW9xA",
        "colab_type": "code",
        "colab": {}
      },
      "cell_type": "code",
      "source": [
        ""
      ],
      "execution_count": 0,
      "outputs": []
    },
    {
      "metadata": {
        "id": "hyH65oetWFtE",
        "colab_type": "code",
        "colab": {}
      },
      "cell_type": "code",
      "source": [
        ""
      ],
      "execution_count": 0,
      "outputs": []
    },
    {
      "metadata": {
        "id": "K35U720aVeqH",
        "colab_type": "code",
        "colab": {}
      },
      "cell_type": "code",
      "source": [
        ""
      ],
      "execution_count": 0,
      "outputs": []
    },
    {
      "metadata": {
        "id": "2W9wg2ykT8Pf",
        "colab_type": "code",
        "colab": {}
      },
      "cell_type": "code",
      "source": [
        ""
      ],
      "execution_count": 0,
      "outputs": []
    },
    {
      "metadata": {
        "id": "GCHQu-nrT45m",
        "colab_type": "code",
        "colab": {}
      },
      "cell_type": "code",
      "source": [
        ""
      ],
      "execution_count": 0,
      "outputs": []
    },
    {
      "metadata": {
        "id": "oh81lOi6Sv82",
        "colab_type": "code",
        "colab": {}
      },
      "cell_type": "code",
      "source": [
        ""
      ],
      "execution_count": 0,
      "outputs": []
    },
    {
      "metadata": {
        "id": "OlQKWv8qSn6Q",
        "colab_type": "code",
        "colab": {}
      },
      "cell_type": "code",
      "source": [
        ""
      ],
      "execution_count": 0,
      "outputs": []
    },
    {
      "metadata": {
        "id": "876CAMliSYct",
        "colab_type": "code",
        "colab": {}
      },
      "cell_type": "code",
      "source": [
        ""
      ],
      "execution_count": 0,
      "outputs": []
    }
  ]
}